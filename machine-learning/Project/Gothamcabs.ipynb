{
 "cells": [
  {
   "cell_type": "markdown",
   "metadata": {},
   "source": [
    "# Gotham City Cabs\n",
    "Anutida Sangkla "
   ]
  },
  {
   "cell_type": "code",
   "execution_count": 1,
   "metadata": {},
   "outputs": [],
   "source": [
    "import pandas as pd\n",
    "from sklearn.cluster import KMeans\n",
    "from sklearn.linear_model import LinearRegression,LogisticRegression\n",
    "from sklearn.model_selection import learning_curve\n",
    "from sklearn.preprocessing import LabelEncoder\n",
    "import warnings \n",
    "warnings.filterwarnings('ignore')\n",
    "from sklearn import preprocessing\n",
    "from sklearn.preprocessing import StandardScaler\n",
    "from sklearn.ensemble import GradientBoostingRegressor\n",
    "import numpy as np\n",
    "from sklearn.metrics import mean_squared_error\n",
    "from sklearn.ensemble import RandomForestRegressor\n",
    "from sklearn.model_selection import train_test_split\n",
    "from sklearn.model_selection import KFold\n",
    "from keras.models import Sequential\n",
    "from keras.layers import Dense\n",
    "from keras.layers import Dropout\n",
    "from keras.layers import Flatten\n",
    "from keras.layers.convolutional import Conv2D\n",
    "from keras.layers.convolutional import MaxPooling2D\n",
    "import seaborn as sns\n",
    "from scipy import stats\n",
    "from scipy.stats import skew,norm\n",
    "import matplotlib.pyplot as plt\n",
    "from statsmodels.graphics.gofplots import qqplot\n",
    "from sklearn.model_selection import cross_val_score\n",
    "from sklearn.model_selection import KFold"
   ]
  },
  {
   "cell_type": "markdown",
   "metadata": {},
   "source": [
    "### Loading csv files "
   ]
  },
  {
   "cell_type": "code",
   "execution_count": 2,
   "metadata": {},
   "outputs": [],
   "source": [
    "train = pd.read_csv(\"gs://msa8150/Train.csv\",low_memory = False)\n",
    "test =  pd.read_csv(\"gs://msa8150/Gotham_Test_Set.csv\",low_memory = False)\n",
    "train_df = train.copy()"
   ]
  },
  {
   "cell_type": "code",
   "execution_count": 3,
   "metadata": {},
   "outputs": [],
   "source": [
    "train['pickup_datetime'] = pd.to_datetime(train['pickup_datetime'])\n",
    "test['pickup_datetime'] = pd.to_datetime(test['pickup_datetime'])"
   ]
  },
  {
   "cell_type": "markdown",
   "metadata": {},
   "source": [
    "### Data exploration"
   ]
  },
  {
   "cell_type": "code",
   "execution_count": 4,
   "metadata": {},
   "outputs": [
    {
     "data": {
      "text/html": [
       "<div>\n",
       "<style scoped>\n",
       "    .dataframe tbody tr th:only-of-type {\n",
       "        vertical-align: middle;\n",
       "    }\n",
       "\n",
       "    .dataframe tbody tr th {\n",
       "        vertical-align: top;\n",
       "    }\n",
       "\n",
       "    .dataframe thead th {\n",
       "        text-align: right;\n",
       "    }\n",
       "</style>\n",
       "<table border=\"1\" class=\"dataframe\">\n",
       "  <thead>\n",
       "    <tr style=\"text-align: right;\">\n",
       "      <th></th>\n",
       "      <th>pickup_datetime</th>\n",
       "      <th>NumberOfPassengers</th>\n",
       "      <th>duration</th>\n",
       "      <th>pickup_x</th>\n",
       "      <th>pickup_y</th>\n",
       "      <th>dropoff_x</th>\n",
       "      <th>dropoff_y</th>\n",
       "    </tr>\n",
       "  </thead>\n",
       "  <tbody>\n",
       "    <tr>\n",
       "      <th>0</th>\n",
       "      <td>2034-01-30 10:24:44</td>\n",
       "      <td>1</td>\n",
       "      <td>724</td>\n",
       "      <td>162.837930</td>\n",
       "      <td>341.187316</td>\n",
       "      <td>160.391473</td>\n",
       "      <td>367.907042</td>\n",
       "    </tr>\n",
       "    <tr>\n",
       "      <th>1</th>\n",
       "      <td>2034-03-09 23:10:11</td>\n",
       "      <td>1</td>\n",
       "      <td>127</td>\n",
       "      <td>150.375222</td>\n",
       "      <td>307.042187</td>\n",
       "      <td>152.623686</td>\n",
       "      <td>318.383231</td>\n",
       "    </tr>\n",
       "    <tr>\n",
       "      <th>2</th>\n",
       "      <td>2034-05-02 20:23:17</td>\n",
       "      <td>6</td>\n",
       "      <td>386</td>\n",
       "      <td>156.586093</td>\n",
       "      <td>333.063670</td>\n",
       "      <td>169.397955</td>\n",
       "      <td>315.001104</td>\n",
       "    </tr>\n",
       "    <tr>\n",
       "      <th>3</th>\n",
       "      <td>2034-06-21 17:51:55</td>\n",
       "      <td>1</td>\n",
       "      <td>1192</td>\n",
       "      <td>161.738726</td>\n",
       "      <td>344.609009</td>\n",
       "      <td>167.702052</td>\n",
       "      <td>310.817653</td>\n",
       "    </tr>\n",
       "    <tr>\n",
       "      <th>4</th>\n",
       "      <td>2034-05-15 18:38:15</td>\n",
       "      <td>2</td>\n",
       "      <td>315</td>\n",
       "      <td>174.419521</td>\n",
       "      <td>344.441542</td>\n",
       "      <td>165.780203</td>\n",
       "      <td>344.275954</td>\n",
       "    </tr>\n",
       "  </tbody>\n",
       "</table>\n",
       "</div>"
      ],
      "text/plain": [
       "      pickup_datetime  NumberOfPassengers  duration    pickup_x    pickup_y  \\\n",
       "0 2034-01-30 10:24:44                   1       724  162.837930  341.187316   \n",
       "1 2034-03-09 23:10:11                   1       127  150.375222  307.042187   \n",
       "2 2034-05-02 20:23:17                   6       386  156.586093  333.063670   \n",
       "3 2034-06-21 17:51:55                   1      1192  161.738726  344.609009   \n",
       "4 2034-05-15 18:38:15                   2       315  174.419521  344.441542   \n",
       "\n",
       "    dropoff_x   dropoff_y  \n",
       "0  160.391473  367.907042  \n",
       "1  152.623686  318.383231  \n",
       "2  169.397955  315.001104  \n",
       "3  167.702052  310.817653  \n",
       "4  165.780203  344.275954  "
      ]
     },
     "execution_count": 4,
     "metadata": {},
     "output_type": "execute_result"
    }
   ],
   "source": [
    "train.head()"
   ]
  },
  {
   "cell_type": "code",
   "execution_count": 5,
   "metadata": {},
   "outputs": [
    {
     "data": {
      "text/html": [
       "<div>\n",
       "<style scoped>\n",
       "    .dataframe tbody tr th:only-of-type {\n",
       "        vertical-align: middle;\n",
       "    }\n",
       "\n",
       "    .dataframe tbody tr th {\n",
       "        vertical-align: top;\n",
       "    }\n",
       "\n",
       "    .dataframe thead th {\n",
       "        text-align: right;\n",
       "    }\n",
       "</style>\n",
       "<table border=\"1\" class=\"dataframe\">\n",
       "  <thead>\n",
       "    <tr style=\"text-align: right;\">\n",
       "      <th></th>\n",
       "      <th>pickup_datetime</th>\n",
       "      <th>NumberOfPassengers</th>\n",
       "      <th>pickup_x</th>\n",
       "      <th>pickup_y</th>\n",
       "      <th>dropoff_x</th>\n",
       "      <th>dropoff_y</th>\n",
       "    </tr>\n",
       "  </thead>\n",
       "  <tbody>\n",
       "    <tr>\n",
       "      <th>0</th>\n",
       "      <td>2034-03-07 08:18:38</td>\n",
       "      <td>1</td>\n",
       "      <td>161.621556</td>\n",
       "      <td>378.392680</td>\n",
       "      <td>154.576631</td>\n",
       "      <td>357.100229</td>\n",
       "    </tr>\n",
       "    <tr>\n",
       "      <th>1</th>\n",
       "      <td>2034-05-25 22:17:59</td>\n",
       "      <td>6</td>\n",
       "      <td>155.861811</td>\n",
       "      <td>378.814369</td>\n",
       "      <td>152.096261</td>\n",
       "      <td>371.937385</td>\n",
       "    </tr>\n",
       "    <tr>\n",
       "      <th>2</th>\n",
       "      <td>2034-02-20 11:44:58</td>\n",
       "      <td>1</td>\n",
       "      <td>149.134396</td>\n",
       "      <td>358.166672</td>\n",
       "      <td>154.228104</td>\n",
       "      <td>350.994666</td>\n",
       "    </tr>\n",
       "    <tr>\n",
       "      <th>3</th>\n",
       "      <td>2034-04-20 20:37:17</td>\n",
       "      <td>1</td>\n",
       "      <td>151.383779</td>\n",
       "      <td>311.295334</td>\n",
       "      <td>143.709998</td>\n",
       "      <td>322.694772</td>\n",
       "    </tr>\n",
       "    <tr>\n",
       "      <th>4</th>\n",
       "      <td>2034-06-14 11:30:47</td>\n",
       "      <td>1</td>\n",
       "      <td>148.365303</td>\n",
       "      <td>336.804890</td>\n",
       "      <td>144.565196</td>\n",
       "      <td>303.796307</td>\n",
       "    </tr>\n",
       "  </tbody>\n",
       "</table>\n",
       "</div>"
      ],
      "text/plain": [
       "      pickup_datetime  NumberOfPassengers    pickup_x    pickup_y   dropoff_x  \\\n",
       "0 2034-03-07 08:18:38                   1  161.621556  378.392680  154.576631   \n",
       "1 2034-05-25 22:17:59                   6  155.861811  378.814369  152.096261   \n",
       "2 2034-02-20 11:44:58                   1  149.134396  358.166672  154.228104   \n",
       "3 2034-04-20 20:37:17                   1  151.383779  311.295334  143.709998   \n",
       "4 2034-06-14 11:30:47                   1  148.365303  336.804890  144.565196   \n",
       "\n",
       "    dropoff_y  \n",
       "0  357.100229  \n",
       "1  371.937385  \n",
       "2  350.994666  \n",
       "3  322.694772  \n",
       "4  303.796307  "
      ]
     },
     "execution_count": 5,
     "metadata": {},
     "output_type": "execute_result"
    }
   ],
   "source": [
    "test.head()"
   ]
  },
  {
   "cell_type": "markdown",
   "metadata": {},
   "source": [
    "#### Analyzing target variable"
   ]
  },
  {
   "cell_type": "markdown",
   "metadata": {},
   "source": [
    "We can observe that this dataset includes 6 features which we can use to predict duration time."
   ]
  },
  {
   "cell_type": "code",
   "execution_count": 6,
   "metadata": {},
   "outputs": [
    {
     "data": {
      "text/plain": [
       "count    1000000.000000\n",
       "mean         696.646542\n",
       "std          544.929446\n",
       "min            0.000000\n",
       "25%          330.000000\n",
       "50%          551.000000\n",
       "75%          894.000000\n",
       "max         5944.000000\n",
       "Name: duration, dtype: float64"
      ]
     },
     "execution_count": 6,
     "metadata": {},
     "output_type": "execute_result"
    }
   ],
   "source": [
    "train['duration'].describe()"
   ]
  },
  {
   "cell_type": "code",
   "execution_count": 7,
   "metadata": {},
   "outputs": [
    {
     "data": {
      "image/png": "[encoded data removed]",
      "text/plain": [
       "<Figure size 432x288 with 1 Axes>"
      ]
     },
     "metadata": {
      "needs_background": "light"
     },
     "output_type": "display_data"
    },
    {
     "data": {
      "image/png": "[encoded data removed]",
      "text/plain": [
       "<Figure size 432x288 with 1 Axes>"
      ]
     },
     "metadata": {
      "needs_background": "light"
     },
     "output_type": "display_data"
    }
   ],
   "source": [
    "# test normality\n",
    "sns.distplot(train.duration,fit = norm);(mu, sigma) = norm.fit(train['duration'])\n",
    "\n",
    "# Q-Q plot\n",
    "fig = plt.figure()\n",
    "res = stats.probplot(train['duration'], plot = plt)\n",
    "plt.show()"
   ]
  },
  {
   "cell_type": "markdown",
   "metadata": {},
   "source": [
    "From the plots, the duration of the trip seems not to be normally distributed."
   ]
  },
  {
   "cell_type": "code",
   "execution_count": 8,
   "metadata": {},
   "outputs": [
    {
     "data": {
      "image/png": "[encoded data removed]",
      "text/plain": [
       "<Figure size 432x288 with 1 Axes>"
      ]
     },
     "metadata": {
      "needs_background": "light"
     },
     "output_type": "display_data"
    }
   ],
   "source": [
    "sns.distplot(np.log1p(train['duration']), fit=norm);"
   ]
  },
  {
   "cell_type": "markdown",
   "metadata": {},
   "source": [
    "After we took log to the respond variable, the duration of the trip seems normally distributed. Therefore, we will take log to our respond variable."
   ]
  },
  {
   "cell_type": "code",
   "execution_count": 9,
   "metadata": {},
   "outputs": [],
   "source": [
    "#train['duration'] = np.log(train['duration'])\n",
    "#train.head()"
   ]
  },
  {
   "cell_type": "markdown",
   "metadata": {},
   "source": [
    "#### Exploring Pickup and Dropoff features "
   ]
  },
  {
   "cell_type": "code",
   "execution_count": 10,
   "metadata": {},
   "outputs": [
    {
     "data": {
      "text/plain": [
       "<seaborn.axisgrid.FacetGrid at 0x7fa36ea51cd0>"
      ]
     },
     "execution_count": 10,
     "metadata": {},
     "output_type": "execute_result"
    },
    {
     "data": {
      "image/png": "[encoded data removed]",
      "text/plain": [
       "<Figure size 360x360 with 1 Axes>"
      ]
     },
     "metadata": {},
     "output_type": "display_data"
    }
   ],
   "source": [
    "sns.set_context(\"notebook\", font_scale=1)\n",
    "sns.set_style(\"white\")\n",
    "# Create scatterplot of dataframe\n",
    "sns.lmplot('dropoff_x', 'dropoff_y', data=train, fit_reg=False, scatter_kws={\"marker\": \"o\", \"s\": 20})"
   ]
  },
  {
   "cell_type": "code",
   "execution_count": 11,
   "metadata": {},
   "outputs": [
    {
     "data": {
      "text/plain": [
       "<seaborn.axisgrid.FacetGrid at 0x7fa36df31610>"
      ]
     },
     "execution_count": 11,
     "metadata": {},
     "output_type": "execute_result"
    },
    {
     "data": {
      "image/png": "[encoded data removed]",
      "text/plain": [
       "<Figure size 360x360 with 1 Axes>"
      ]
     },
     "metadata": {},
     "output_type": "display_data"
    }
   ],
   "source": [
    "sns.set_context(\"notebook\", font_scale=1)\n",
    "sns.set_style(\"white\")\n",
    "# Create scatterplot of dataframe\n",
    "sns.lmplot('pickup_x', 'pickup_y', data=train, fit_reg=False, scatter_kws={\"marker\": \"o\", \"s\": 20})"
   ]
  },
  {
   "cell_type": "markdown",
   "metadata": {},
   "source": [
    "We may create new features by using kmeans to cluster pickup and drop off features. Also, finding the distance between pickup and dropoff might increase the predicted accuracy of trip duration since the distance is an important feature that contributes to trip duration. As a result, we will create distance related features by calculating distance in different methods,  such as manhattan distance and euclidean distance."
   ]
  },
  {
   "cell_type": "markdown",
   "metadata": {},
   "source": [
    "## Building models"
   ]
  },
  {
   "cell_type": "markdown",
   "metadata": {},
   "source": [
    "#### Principal Component Analysis"
   ]
  },
  {
   "cell_type": "code",
   "execution_count": 12,
   "metadata": {},
   "outputs": [
    {
     "name": "stdout",
     "output_type": "stream",
     "text": [
      "original shape:    (1000000, 5)\n",
      "transformed shape: (1000000, 2)\n"
     ]
    }
   ],
   "source": [
    "from sklearn.decomposition import PCA\n",
    "X = train.loc[:, ~train.columns.isin(['duration', 'pickup_datetime'])]\n",
    "y = train['duration']\n",
    "pca = PCA(2)  # project from 5 to 2 dimensions\n",
    "projected = pca.fit_transform(X)\n",
    "print(\"original shape:   \", X.shape)\n",
    "print(\"transformed shape:\", projected.shape)"
   ]
  },
  {
   "cell_type": "code",
   "execution_count": 13,
   "metadata": {},
   "outputs": [
    {
     "data": {
      "image/png": "[encoded data removed]",
      "text/plain": [
       "<Figure size 432x288 with 2 Axes>"
      ]
     },
     "metadata": {},
     "output_type": "display_data"
    }
   ],
   "source": [
    "plt.scatter(projected[:, 0], projected[:, 1],\n",
    "            c= y, edgecolor='none', alpha=0.5,\n",
    "            cmap=plt.cm.get_cmap('PiYG', 10))\n",
    "plt.xlabel('component 1')\n",
    "plt.ylabel('component 2')\n",
    "plt.colorbar();"
   ]
  },
  {
   "cell_type": "markdown",
   "metadata": {},
   "source": [
    "Recall what these components mean: the full data is a 5-dimensional point cloud, and these points are the projection of each data point along the directions with the largest variance. Essentially, we have found the optimal stretch and rotation in 5-dimensional space that allows us to see the layout of the durations in two dimensions, and have done this in an unsupervised manner—that is, without reference to the labels."
   ]
  },
  {
   "cell_type": "markdown",
   "metadata": {},
   "source": [
    "#### Choosing the number of components"
   ]
  },
  {
   "cell_type": "markdown",
   "metadata": {},
   "source": [
    "A vital part of using PCA in practice is the ability to estimate how many components are needed to describe the data. This can be determined by looking at the cumulative explained variance ratio as a function of the number of components:"
   ]
  },
  {
   "cell_type": "code",
   "execution_count": 14,
   "metadata": {},
   "outputs": [
    {
     "data": {
      "image/png": "[encoded data removed]",
      "text/plain": [
       "<Figure size 432x288 with 1 Axes>"
      ]
     },
     "metadata": {},
     "output_type": "display_data"
    }
   ],
   "source": [
    "train_new = train_df.loc[:, ~train.columns.isin(['pickup_datetime'])]\n",
    "pca = PCA().fit(train_new)\n",
    "plt.plot(np.cumsum(pca.explained_variance_ratio_))\n",
    "plt.xlabel('number of components')\n",
    "plt.ylabel('cumulative explained variance');"
   ]
  },
  {
   "cell_type": "markdown",
   "metadata": {},
   "source": [
    "This curve quantifies how much of the total, 5-dimensional variance is contained within the first N components. For example, we see that with the train data, we need around 5 components to describe close to 100% of the variance.\n",
    "\n",
    "Here we see that our two-dimensional projection loses information (as measured by the explained variance) and that we'd need about 5 components to retain ~100% of the variance. Looking at this plot for a high-dimensional dataset can help we understand the level of redundancy present in multiple observations."
   ]
  },
  {
   "cell_type": "markdown",
   "metadata": {},
   "source": [
    "##### Starting with the basic model like linear regression with orginal features, 5 components, to understand the relationship between features and the respond variable and exclude pickup datetime: "
   ]
  },
  {
   "cell_type": "code",
   "execution_count": 15,
   "metadata": {},
   "outputs": [
    {
     "name": "stdout",
     "output_type": "stream",
     "text": [
      "0.20 accuracy with a standard deviation of 0.00\n"
     ]
    }
   ],
   "source": [
    "lm = LinearRegression()\n",
    "cv = KFold(n_splits=5, random_state=1, shuffle=True) \n",
    "scores = cross_val_score(lm, X, y, cv=cv)\n",
    "print(\"%0.2f accuracy with a standard deviation of %0.2f\" % (scores.mean(), scores.std()))"
   ]
  },
  {
   "cell_type": "markdown",
   "metadata": {},
   "source": [
    "From the result, it seems not to be good to exclude pickup datetime; as a result, we will split date and time into minute, hour, month, dayofweek, weekday, and weekend features to predict trip duration."
   ]
  },
  {
   "cell_type": "markdown",
   "metadata": {},
   "source": [
    "### Creating new features"
   ]
  },
  {
   "cell_type": "code",
   "execution_count": 16,
   "metadata": {},
   "outputs": [],
   "source": [
    "def features(df):\n",
    "    df['minute'] = df['pickup_datetime'].dt.hour*60 + df['pickup_datetime'].dt.minute\n",
    "    df['weekday'] = df['pickup_datetime'].dt.weekday\n",
    "    df['weekend'] = df['weekday'].map(lambda x: 1 if x >= 5 else 0)\n",
    "    df['hour'] = df['pickup_datetime'].dt.hour\n",
    "    df['month'] = df['pickup_datetime'].dt.month\n",
    "    remove = ['pickup_datetime']\n",
    "    df = df[[x for x in df.columns if x not in remove]]\n",
    "    kmeans = KMeans(n_clusters=10, random_state=42)\n",
    "    df['cluster_pickup'] = kmeans.fit_predict(df[['pickup_x','pickup_y']])\n",
    "    df['cluster_dropoff'] = kmeans.fit_predict(df[['dropoff_x','dropoff_y']])\n",
    "    df['euclidean_dist'] = df.apply(lambda x: np.linalg.norm(np.array((x.pickup_x,x.pickup_y))-np.array((x.dropoff_x,x.dropoff_y))) ,axis=1)\n",
    "    df['manhattan_dist'] = df.apply(lambda x: abs(x.dropoff_x-x.pickup_x)+abs(x.dropoff_y-x.pickup_y) ,axis=1)\n",
    "    df['dir_x'] = df.apply(lambda x: (x.dropoff_x-x.pickup_x)/x.euclidean_dist,axis=1)\n",
    "    df['dir_y'] = df.apply(lambda x: (x.dropoff_y-x.pickup_y)/x.euclidean_dist,axis=1)\n",
    "    return df"
   ]
  },
  {
   "cell_type": "code",
   "execution_count": null,
   "metadata": {},
   "outputs": [],
   "source": [
    "feat_tr = features(train)\n",
    "feat_ts = features(test)"
   ]
  },
  {
   "cell_type": "markdown",
   "metadata": {},
   "source": [
    "### Data pre-processing: Standardized data and encoded data"
   ]
  },
  {
   "cell_type": "code",
   "execution_count": null,
   "metadata": {},
   "outputs": [],
   "source": [
    "def scale(df,scaled_feat):\n",
    "    scaler = preprocessing.StandardScaler()\n",
    "    for feat in scaled_feat:\n",
    "        df[feat] = scaler.fit_transform(df[[feat]])\n",
    "        return df\n",
    "def encode(df,encoded_feat):\n",
    "    le = LabelEncoder()\n",
    "    for feat in encoded_feat:\n",
    "        le.fit(df[[feat]])\n",
    "        df[feat] = le.transform(list(df[feat]))\n",
    "        return df\n",
    "def preprocess(df,encoded_feat):\n",
    "    scaled_feat = [x for x in df.columns if x not in encoded_feat + ['duration']]\n",
    "    df = scale(df,scaled_feat)\n",
    "    df = encode(df,encoded_feat)\n",
    "    return df"
   ]
  },
  {
   "cell_type": "code",
   "execution_count": null,
   "metadata": {},
   "outputs": [],
   "source": [
    "train = preprocess(feat_tr, ['hour','month','cluster_pickup','cluster_dropoff','weekday'])\n",
    "test = preprocess(feat_ts, ['hour','month','cluster_pickup','cluster_dropoff','weekday'])"
   ]
  },
  {
   "cell_type": "code",
   "execution_count": null,
   "metadata": {},
   "outputs": [
    {
     "data": {
      "text/html": [
       "<div>\n",
       "<style scoped>\n",
       "    .dataframe tbody tr th:only-of-type {\n",
       "        vertical-align: middle;\n",
       "    }\n",
       "\n",
       "    .dataframe tbody tr th {\n",
       "        vertical-align: top;\n",
       "    }\n",
       "\n",
       "    .dataframe thead th {\n",
       "        text-align: right;\n",
       "    }\n",
       "</style>\n",
       "<table border=\"1\" class=\"dataframe\">\n",
       "  <thead>\n",
       "    <tr style=\"text-align: right;\">\n",
       "      <th></th>\n",
       "      <th>NumberOfPassengers</th>\n",
       "      <th>duration</th>\n",
       "      <th>pickup_x</th>\n",
       "      <th>pickup_y</th>\n",
       "      <th>dropoff_x</th>\n",
       "      <th>dropoff_y</th>\n",
       "      <th>minute</th>\n",
       "      <th>weekday</th>\n",
       "      <th>weekend</th>\n",
       "      <th>hour</th>\n",
       "      <th>month</th>\n",
       "      <th>cluster_pickup</th>\n",
       "      <th>cluster_dropoff</th>\n",
       "      <th>euclidean_dist</th>\n",
       "      <th>manhattan_dist</th>\n",
       "      <th>dir_x</th>\n",
       "      <th>dir_y</th>\n",
       "    </tr>\n",
       "  </thead>\n",
       "  <tbody>\n",
       "    <tr>\n",
       "      <th>0</th>\n",
       "      <td>-0.505417</td>\n",
       "      <td>724</td>\n",
       "      <td>162.837930</td>\n",
       "      <td>341.187316</td>\n",
       "      <td>160.391473</td>\n",
       "      <td>367.907042</td>\n",
       "      <td>624</td>\n",
       "      <td>0</td>\n",
       "      <td>0</td>\n",
       "      <td>10</td>\n",
       "      <td>1</td>\n",
       "      <td>2</td>\n",
       "      <td>3</td>\n",
       "      <td>26.831491</td>\n",
       "      <td>29.166183</td>\n",
       "      <td>-0.091179</td>\n",
       "      <td>0.995835</td>\n",
       "    </tr>\n",
       "    <tr>\n",
       "      <th>1</th>\n",
       "      <td>-0.505417</td>\n",
       "      <td>127</td>\n",
       "      <td>150.375222</td>\n",
       "      <td>307.042187</td>\n",
       "      <td>152.623686</td>\n",
       "      <td>318.383231</td>\n",
       "      <td>1390</td>\n",
       "      <td>3</td>\n",
       "      <td>0</td>\n",
       "      <td>23</td>\n",
       "      <td>3</td>\n",
       "      <td>9</td>\n",
       "      <td>4</td>\n",
       "      <td>11.561785</td>\n",
       "      <td>13.589509</td>\n",
       "      <td>0.194474</td>\n",
       "      <td>0.980908</td>\n",
       "    </tr>\n",
       "    <tr>\n",
       "      <th>2</th>\n",
       "      <td>3.300878</td>\n",
       "      <td>386</td>\n",
       "      <td>156.586093</td>\n",
       "      <td>333.063670</td>\n",
       "      <td>169.397955</td>\n",
       "      <td>315.001104</td>\n",
       "      <td>1223</td>\n",
       "      <td>1</td>\n",
       "      <td>0</td>\n",
       "      <td>20</td>\n",
       "      <td>5</td>\n",
       "      <td>6</td>\n",
       "      <td>4</td>\n",
       "      <td>22.144980</td>\n",
       "      <td>30.874429</td>\n",
       "      <td>0.578545</td>\n",
       "      <td>-0.815651</td>\n",
       "    </tr>\n",
       "    <tr>\n",
       "      <th>3</th>\n",
       "      <td>-0.505417</td>\n",
       "      <td>1192</td>\n",
       "      <td>161.738726</td>\n",
       "      <td>344.609009</td>\n",
       "      <td>167.702052</td>\n",
       "      <td>310.817653</td>\n",
       "      <td>1071</td>\n",
       "      <td>2</td>\n",
       "      <td>0</td>\n",
       "      <td>17</td>\n",
       "      <td>6</td>\n",
       "      <td>2</td>\n",
       "      <td>4</td>\n",
       "      <td>34.313511</td>\n",
       "      <td>39.754683</td>\n",
       "      <td>0.173789</td>\n",
       "      <td>-0.984783</td>\n",
       "    </tr>\n",
       "    <tr>\n",
       "      <th>4</th>\n",
       "      <td>0.255842</td>\n",
       "      <td>315</td>\n",
       "      <td>174.419521</td>\n",
       "      <td>344.441542</td>\n",
       "      <td>165.780203</td>\n",
       "      <td>344.275954</td>\n",
       "      <td>1118</td>\n",
       "      <td>0</td>\n",
       "      <td>0</td>\n",
       "      <td>18</td>\n",
       "      <td>5</td>\n",
       "      <td>0</td>\n",
       "      <td>0</td>\n",
       "      <td>8.640904</td>\n",
       "      <td>8.804906</td>\n",
       "      <td>-0.999816</td>\n",
       "      <td>-0.019163</td>\n",
       "    </tr>\n",
       "  </tbody>\n",
       "</table>\n",
       "</div>"
      ],
      "text/plain": [
       "   NumberOfPassengers  duration    pickup_x    pickup_y   dropoff_x  \\\n",
       "0           -0.505417       724  162.837930  341.187316  160.391473   \n",
       "1           -0.505417       127  150.375222  307.042187  152.623686   \n",
       "2            3.300878       386  156.586093  333.063670  169.397955   \n",
       "3           -0.505417      1192  161.738726  344.609009  167.702052   \n",
       "4            0.255842       315  174.419521  344.441542  165.780203   \n",
       "\n",
       "    dropoff_y  minute  weekday  weekend  hour  month  cluster_pickup  \\\n",
       "0  367.907042     624        0        0    10      1               2   \n",
       "1  318.383231    1390        3        0    23      3               9   \n",
       "2  315.001104    1223        1        0    20      5               6   \n",
       "3  310.817653    1071        2        0    17      6               2   \n",
       "4  344.275954    1118        0        0    18      5               0   \n",
       "\n",
       "   cluster_dropoff  euclidean_dist  manhattan_dist     dir_x     dir_y  \n",
       "0                3       26.831491       29.166183 -0.091179  0.995835  \n",
       "1                4       11.561785       13.589509  0.194474  0.980908  \n",
       "2                4       22.144980       30.874429  0.578545 -0.815651  \n",
       "3                4       34.313511       39.754683  0.173789 -0.984783  \n",
       "4                0        8.640904        8.804906 -0.999816 -0.019163  "
      ]
     },
     "execution_count": 20,
     "metadata": {},
     "output_type": "execute_result"
    }
   ],
   "source": [
    "train.head()"
   ]
  },
  {
   "cell_type": "code",
   "execution_count": null,
   "metadata": {},
   "outputs": [
    {
     "data": {
      "text/html": [
       "<div>\n",
       "<style scoped>\n",
       "    .dataframe tbody tr th:only-of-type {\n",
       "        vertical-align: middle;\n",
       "    }\n",
       "\n",
       "    .dataframe tbody tr th {\n",
       "        vertical-align: top;\n",
       "    }\n",
       "\n",
       "    .dataframe thead th {\n",
       "        text-align: right;\n",
       "    }\n",
       "</style>\n",
       "<table border=\"1\" class=\"dataframe\">\n",
       "  <thead>\n",
       "    <tr style=\"text-align: right;\">\n",
       "      <th></th>\n",
       "      <th>NumberOfPassengers</th>\n",
       "      <th>pickup_x</th>\n",
       "      <th>pickup_y</th>\n",
       "      <th>dropoff_x</th>\n",
       "      <th>dropoff_y</th>\n",
       "      <th>minute</th>\n",
       "      <th>weekday</th>\n",
       "      <th>weekend</th>\n",
       "      <th>hour</th>\n",
       "      <th>month</th>\n",
       "      <th>cluster_pickup</th>\n",
       "      <th>cluster_dropoff</th>\n",
       "      <th>euclidean_dist</th>\n",
       "      <th>manhattan_dist</th>\n",
       "      <th>dir_x</th>\n",
       "      <th>dir_y</th>\n",
       "    </tr>\n",
       "  </thead>\n",
       "  <tbody>\n",
       "    <tr>\n",
       "      <th>0</th>\n",
       "      <td>-0.505739</td>\n",
       "      <td>161.621556</td>\n",
       "      <td>378.392680</td>\n",
       "      <td>154.576631</td>\n",
       "      <td>357.100229</td>\n",
       "      <td>498</td>\n",
       "      <td>1</td>\n",
       "      <td>0</td>\n",
       "      <td>8</td>\n",
       "      <td>3</td>\n",
       "      <td>4</td>\n",
       "      <td>0</td>\n",
       "      <td>22.427649</td>\n",
       "      <td>28.337376</td>\n",
       "      <td>-0.314118</td>\n",
       "      <td>-0.949384</td>\n",
       "    </tr>\n",
       "    <tr>\n",
       "      <th>1</th>\n",
       "      <td>3.294327</td>\n",
       "      <td>155.861811</td>\n",
       "      <td>378.814369</td>\n",
       "      <td>152.096261</td>\n",
       "      <td>371.937385</td>\n",
       "      <td>1337</td>\n",
       "      <td>3</td>\n",
       "      <td>0</td>\n",
       "      <td>22</td>\n",
       "      <td>5</td>\n",
       "      <td>4</td>\n",
       "      <td>4</td>\n",
       "      <td>7.840426</td>\n",
       "      <td>10.642534</td>\n",
       "      <td>-0.480274</td>\n",
       "      <td>-0.877119</td>\n",
       "    </tr>\n",
       "    <tr>\n",
       "      <th>2</th>\n",
       "      <td>-0.505739</td>\n",
       "      <td>149.134396</td>\n",
       "      <td>358.166672</td>\n",
       "      <td>154.228104</td>\n",
       "      <td>350.994666</td>\n",
       "      <td>704</td>\n",
       "      <td>0</td>\n",
       "      <td>0</td>\n",
       "      <td>11</td>\n",
       "      <td>2</td>\n",
       "      <td>4</td>\n",
       "      <td>0</td>\n",
       "      <td>8.796790</td>\n",
       "      <td>12.265713</td>\n",
       "      <td>0.579042</td>\n",
       "      <td>-0.815298</td>\n",
       "    </tr>\n",
       "    <tr>\n",
       "      <th>3</th>\n",
       "      <td>-0.505739</td>\n",
       "      <td>151.383779</td>\n",
       "      <td>311.295334</td>\n",
       "      <td>143.709998</td>\n",
       "      <td>322.694772</td>\n",
       "      <td>1237</td>\n",
       "      <td>3</td>\n",
       "      <td>0</td>\n",
       "      <td>20</td>\n",
       "      <td>4</td>\n",
       "      <td>2</td>\n",
       "      <td>7</td>\n",
       "      <td>13.741693</td>\n",
       "      <td>19.073220</td>\n",
       "      <td>-0.558431</td>\n",
       "      <td>0.829551</td>\n",
       "    </tr>\n",
       "    <tr>\n",
       "      <th>4</th>\n",
       "      <td>-0.505739</td>\n",
       "      <td>148.365303</td>\n",
       "      <td>336.804890</td>\n",
       "      <td>144.565196</td>\n",
       "      <td>303.796307</td>\n",
       "      <td>690</td>\n",
       "      <td>2</td>\n",
       "      <td>0</td>\n",
       "      <td>11</td>\n",
       "      <td>6</td>\n",
       "      <td>7</td>\n",
       "      <td>3</td>\n",
       "      <td>33.226607</td>\n",
       "      <td>36.808690</td>\n",
       "      <td>-0.114369</td>\n",
       "      <td>-0.993438</td>\n",
       "    </tr>\n",
       "  </tbody>\n",
       "</table>\n",
       "</div>"
      ],
      "text/plain": [
       "   NumberOfPassengers    pickup_x    pickup_y   dropoff_x   dropoff_y  minute  \\\n",
       "0           -0.505739  161.621556  378.392680  154.576631  357.100229     498   \n",
       "1            3.294327  155.861811  378.814369  152.096261  371.937385    1337   \n",
       "2           -0.505739  149.134396  358.166672  154.228104  350.994666     704   \n",
       "3           -0.505739  151.383779  311.295334  143.709998  322.694772    1237   \n",
       "4           -0.505739  148.365303  336.804890  144.565196  303.796307     690   \n",
       "\n",
       "   weekday  weekend  hour  month  cluster_pickup  cluster_dropoff  \\\n",
       "0        1        0     8      3               4                0   \n",
       "1        3        0    22      5               4                4   \n",
       "2        0        0    11      2               4                0   \n",
       "3        3        0    20      4               2                7   \n",
       "4        2        0    11      6               7                3   \n",
       "\n",
       "   euclidean_dist  manhattan_dist     dir_x     dir_y  \n",
       "0       22.427649       28.337376 -0.314118 -0.949384  \n",
       "1        7.840426       10.642534 -0.480274 -0.877119  \n",
       "2        8.796790       12.265713  0.579042 -0.815298  \n",
       "3       13.741693       19.073220 -0.558431  0.829551  \n",
       "4       33.226607       36.808690 -0.114369 -0.993438  "
      ]
     },
     "execution_count": 21,
     "metadata": {},
     "output_type": "execute_result"
    }
   ],
   "source": [
    "test.head()"
   ]
  },
  {
   "cell_type": "markdown",
   "metadata": {},
   "source": [
    "### Using PCA to choose the number of components"
   ]
  },
  {
   "cell_type": "code",
   "execution_count": null,
   "metadata": {},
   "outputs": [
    {
     "data": {
      "image/png": "[encoded data removed]",
      "text/plain": [
       "<Figure size 432x288 with 1 Axes>"
      ]
     },
     "metadata": {},
     "output_type": "display_data"
    }
   ],
   "source": [
    "pca = PCA().fit(train)\n",
    "plt.plot(np.cumsum(pca.explained_variance_ratio_))\n",
    "plt.xlabel('number of components')\n",
    "plt.ylabel('cumulative explained variance');"
   ]
  },
  {
   "cell_type": "markdown",
   "metadata": {},
   "source": [
    "This curve quantifies how much of the total, 16-dimensional variance is contained within the first N components. For example, we saw that with the train data, we need around 1 component to describe close to 100% of the variance. However, we chose to use all features to train models."
   ]
  },
  {
   "cell_type": "code",
   "execution_count": null,
   "metadata": {},
   "outputs": [],
   "source": [
    "y_train = train['duration'].values\n",
    "X_train = train.loc[:, ~train.columns.isin(['duration'])]\n",
    "X_test = test"
   ]
  },
  {
   "cell_type": "markdown",
   "metadata": {},
   "source": [
    "# Linear regression"
   ]
  },
  {
   "cell_type": "markdown",
   "metadata": {},
   "source": [
    "#### Model Fitting"
   ]
  },
  {
   "cell_type": "code",
   "execution_count": null,
   "metadata": {},
   "outputs": [],
   "source": [
    "lm = LinearRegression()"
   ]
  },
  {
   "cell_type": "code",
   "execution_count": null,
   "metadata": {},
   "outputs": [
    {
     "data": {
      "text/plain": [
       "LinearRegression(copy_X=True, fit_intercept=True, n_jobs=None, normalize=False)"
      ]
     },
     "execution_count": 25,
     "metadata": {},
     "output_type": "execute_result"
    }
   ],
   "source": [
    "lm.fit(X_train, y_train)"
   ]
  },
  {
   "cell_type": "markdown",
   "metadata": {},
   "source": [
    "#### Model Prediction"
   ]
  },
  {
   "cell_type": "code",
   "execution_count": null,
   "metadata": {},
   "outputs": [
    {
     "name": "stdout",
     "output_type": "stream",
     "text": [
      "[ 553.5552065   453.80400119  394.13829308 ... 1425.84018985  688.96480515\n",
      "  510.7168089 ]\n"
     ]
    }
   ],
   "source": [
    "y_pred = lm.predict(X_test)\n",
    "print(y_pred)"
   ]
  },
  {
   "cell_type": "markdown",
   "metadata": {},
   "source": [
    "#### Model Evaluation"
   ]
  },
  {
   "cell_type": "code",
   "execution_count": null,
   "metadata": {},
   "outputs": [
    {
     "name": "stdout",
     "output_type": "stream",
     "text": [
      "0.61 accuracy with a standard deviation of 0.00\n",
      "MSE: 115665.72\n"
     ]
    }
   ],
   "source": [
    "cv = KFold(n_splits=10, random_state=1, shuffle=True) \n",
    "scores = cross_val_score(lm, X_train, y_train, cv=cv)\n",
    "mse_scores = cross_val_score(lm, X_train, y_train, cv=cv, scoring='neg_mean_squared_error')\n",
    "print(\"%0.2f accuracy with a standard deviation of %0.2f\" % (scores.mean(), scores.std()))\n",
    "print(\"MSE: %0.2f\" % (-mse_scores.mean()))"
   ]
  },
  {
   "cell_type": "markdown",
   "metadata": {},
   "source": [
    "It seems like our model is better when we added features relavant to pickup datetime and the distance."
   ]
  },
  {
   "cell_type": "markdown",
   "metadata": {},
   "source": [
    "#### Submission"
   ]
  },
  {
   "cell_type": "code",
   "execution_count": null,
   "metadata": {},
   "outputs": [
    {
     "data": {
      "text/html": [
       "<div>\n",
       "<style scoped>\n",
       "    .dataframe tbody tr th:only-of-type {\n",
       "        vertical-align: middle;\n",
       "    }\n",
       "\n",
       "    .dataframe tbody tr th {\n",
       "        vertical-align: top;\n",
       "    }\n",
       "\n",
       "    .dataframe thead th {\n",
       "        text-align: right;\n",
       "    }\n",
       "</style>\n",
       "<table border=\"1\" class=\"dataframe\">\n",
       "  <thead>\n",
       "    <tr style=\"text-align: right;\">\n",
       "      <th></th>\n",
       "      <th>duration</th>\n",
       "    </tr>\n",
       "  </thead>\n",
       "  <tbody>\n",
       "    <tr>\n",
       "      <th>0</th>\n",
       "      <td>553.555206</td>\n",
       "    </tr>\n",
       "    <tr>\n",
       "      <th>1</th>\n",
       "      <td>453.804001</td>\n",
       "    </tr>\n",
       "    <tr>\n",
       "      <th>2</th>\n",
       "      <td>394.138293</td>\n",
       "    </tr>\n",
       "    <tr>\n",
       "      <th>3</th>\n",
       "      <td>517.189294</td>\n",
       "    </tr>\n",
       "    <tr>\n",
       "      <th>4</th>\n",
       "      <td>765.964638</td>\n",
       "    </tr>\n",
       "  </tbody>\n",
       "</table>\n",
       "</div>"
      ],
      "text/plain": [
       "     duration\n",
       "0  553.555206\n",
       "1  453.804001\n",
       "2  394.138293\n",
       "3  517.189294\n",
       "4  765.964638"
      ]
     },
     "execution_count": 28,
     "metadata": {},
     "output_type": "execute_result"
    }
   ],
   "source": [
    "submission = pd.DataFrame()\n",
    "submission['duration'] = y_pred\n",
    "submission.to_csv('lm_submission.csv', index = False)\n",
    "submission.head()"
   ]
  },
  {
   "cell_type": "markdown",
   "metadata": {},
   "source": [
    "## Gradient Boosting Regressor"
   ]
  },
  {
   "cell_type": "markdown",
   "metadata": {},
   "source": [
    "#### Model Fitting"
   ]
  },
  {
   "cell_type": "code",
   "execution_count": null,
   "metadata": {},
   "outputs": [
    {
     "data": {
      "text/plain": [
       "GradientBoostingRegressor(alpha=0.9, criterion='friedman_mse', init=None,\n",
       "                          learning_rate=0.05, loss='huber', max_depth=6,\n",
       "                          max_features='sqrt', max_leaf_nodes=None,\n",
       "                          min_impurity_decrease=0.0, min_impurity_split=None,\n",
       "                          min_samples_leaf=15, min_samples_split=10,\n",
       "                          min_weight_fraction_leaf=0.0, n_estimators=1000,\n",
       "                          n_iter_no_change=None, presort='auto',\n",
       "                          random_state=42, subsample=1.0, tol=0.0001,\n",
       "                          validation_fraction=0.1, verbose=0, warm_start=False)"
      ]
     },
     "execution_count": 29,
     "metadata": {},
     "output_type": "execute_result"
    }
   ],
   "source": [
    "gbrt = GradientBoostingRegressor(loss = 'huber', learning_rate = 0.05,n_estimators = 1000, min_samples_split = 10, min_samples_leaf = 15,max_depth = 6,\n",
    "                                 random_state = 42,max_features = 'sqrt')\n",
    "gbrt.fit(X_train, y_train)"
   ]
  },
  {
   "cell_type": "markdown",
   "metadata": {},
   "source": [
    "#### Model Prediction"
   ]
  },
  {
   "cell_type": "code",
   "execution_count": null,
   "metadata": {},
   "outputs": [
    {
     "name": "stdout",
     "output_type": "stream",
     "text": [
      "[ 649.56925577  159.62448828  397.28650277 ... 1828.93298111  617.74359815\n",
      "  669.16080124]\n"
     ]
    }
   ],
   "source": [
    "y_pred = gbrt.predict(X_test)\n",
    "print(y_pred)"
   ]
  },
  {
   "cell_type": "markdown",
   "metadata": {},
   "source": [
    "#### Model Evaluation using K-Folds Cross-Validation"
   ]
  },
  {
   "cell_type": "code",
   "execution_count": null,
   "metadata": {},
   "outputs": [
    {
     "name": "stdout",
     "output_type": "stream",
     "text": [
      "0.81 accuracy with a standard deviation of 0.00\n",
      "MSE: 57489.63\n"
     ]
    }
   ],
   "source": [
    "cv = KFold(n_splits=2, random_state=1, shuffle=True) \n",
    "scores = cross_val_score(gbrt, X_train, y_train, cv=cv)\n",
    "mse_scores = cross_val_score(gbrt, X_train, y_train, cv=cv, scoring='neg_mean_squared_error')\n",
    "print(\"%0.2f accuracy with a standard deviation of %0.2f\" % (scores.mean(), scores.std()))\n",
    "print(\"MSE: %0.2f\" % (-mse_scores.mean()))"
   ]
  },
  {
   "cell_type": "markdown",
   "metadata": {},
   "source": [
    "#### Submission "
   ]
  },
  {
   "cell_type": "code",
   "execution_count": 32,
   "metadata": {},
   "outputs": [
    {
     "data": {
      "text/html": [
       "<div>\n",
       "<style scoped>\n",
       "    .dataframe tbody tr th:only-of-type {\n",
       "        vertical-align: middle;\n",
       "    }\n",
       "\n",
       "    .dataframe tbody tr th {\n",
       "        vertical-align: top;\n",
       "    }\n",
       "\n",
       "    .dataframe thead th {\n",
       "        text-align: right;\n",
       "    }\n",
       "</style>\n",
       "<table border=\"1\" class=\"dataframe\">\n",
       "  <thead>\n",
       "    <tr style=\"text-align: right;\">\n",
       "      <th></th>\n",
       "      <th>duration</th>\n",
       "    </tr>\n",
       "  </thead>\n",
       "  <tbody>\n",
       "    <tr>\n",
       "      <th>0</th>\n",
       "      <td>649.569256</td>\n",
       "    </tr>\n",
       "    <tr>\n",
       "      <th>1</th>\n",
       "      <td>159.624488</td>\n",
       "    </tr>\n",
       "    <tr>\n",
       "      <th>2</th>\n",
       "      <td>397.286503</td>\n",
       "    </tr>\n",
       "    <tr>\n",
       "      <th>3</th>\n",
       "      <td>382.752352</td>\n",
       "    </tr>\n",
       "    <tr>\n",
       "      <th>4</th>\n",
       "      <td>942.064804</td>\n",
       "    </tr>\n",
       "  </tbody>\n",
       "</table>\n",
       "</div>"
      ],
      "text/plain": [
       "     duration\n",
       "0  649.569256\n",
       "1  159.624488\n",
       "2  397.286503\n",
       "3  382.752352\n",
       "4  942.064804"
      ]
     },
     "execution_count": 32,
     "metadata": {},
     "output_type": "execute_result"
    }
   ],
   "source": [
    "submission = pd.DataFrame()\n",
    "submission['duration'] = y_pred\n",
    "submission.to_csv('gbrt_submission.gbrt', index = False)\n",
    "submission.head()"
   ]
  },
  {
   "cell_type": "markdown",
   "metadata": {},
   "source": [
    "## Random Forest Regressor"
   ]
  },
  {
   "cell_type": "markdown",
   "metadata": {},
   "source": [
    "#### Model Fitting"
   ]
  },
  {
   "cell_type": "code",
   "execution_count": null,
   "metadata": {},
   "outputs": [],
   "source": [
    "rf = RandomForestRegressor(max_depth=20, n_estimators = 10,  random_state= 42)\n",
    "rf.fit(X_train, y_train)"
   ]
  },
  {
   "cell_type": "markdown",
   "metadata": {},
   "source": [
    "#### Model Prediction"
   ]
  },
  {
   "cell_type": "code",
   "execution_count": null,
   "metadata": {},
   "outputs": [],
   "source": [
    "y_pred = rf.predict(X_test)\n",
    "print(y_pred)"
   ]
  },
  {
   "cell_type": "markdown",
   "metadata": {},
   "source": [
    "#### Model Evaluation"
   ]
  },
  {
   "cell_type": "code",
   "execution_count": null,
   "metadata": {},
   "outputs": [],
   "source": [
    "cv = KFold(n_splits=2, random_state=1, shuffle=True) \n",
    "scores = cross_val_score(gbrt, X_train, y_train, cv=cv)\n",
    "mse_scores = cross_val_score(gbrt, X_train, y_train, cv=cv, scoring='neg_mean_squared_error')\n",
    "print(\"%0.2f accuracy with a standard deviation of %0.2f\" % (scores.mean(), scores.std()))\n",
    "print(\"MSE: %0.2f \" % (-mse_scores.mean()))"
   ]
  },
  {
   "cell_type": "markdown",
   "metadata": {},
   "source": [
    "#### Submission"
   ]
  },
  {
   "cell_type": "code",
   "execution_count": null,
   "metadata": {},
   "outputs": [],
   "source": [
    "submission = pd.DataFrame()\n",
    "submission['duration'] = y_pred\n",
    "submission.to_csv('rf_submission.csv', index = False)\n",
    "submission.head()"
   ]
  }
 ],
 "metadata": {
  "kernelspec": {
   "display_name": "Python 3",
   "language": "python",
   "name": "python3"
  },
  "language_info": {
   "codemirror_mode": {
    "name": "ipython",
    "version": 3
   },
   "file_extension": ".py",
   "mimetype": "text/x-python",
   "name": "python",
   "nbconvert_exporter": "python",
   "pygments_lexer": "ipython3",
   "version": "3.8.8"
  }
 },
 "nbformat": 4,
 "nbformat_minor": 4
}
