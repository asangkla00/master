{
 "cells": [
  {
   "cell_type": "markdown",
   "metadata": {},
   "source": [
    "### Homework 1\n",
    "#### Anutida Sangkla  ID: 002602236\n",
    "#### Scalable Data Analytics (MSA 8050) Spring 2021"
   ]
  },
  {
   "cell_type": "markdown",
   "metadata": {},
   "source": [
    "#### Question 3:"
   ]
  },
  {
   "cell_type": "code",
   "execution_count": 1,
   "metadata": {},
   "outputs": [],
   "source": [
    "import csv\n",
    "from functools import reduce"
   ]
  },
  {
   "cell_type": "markdown",
   "metadata": {},
   "source": [
    "#### The birth years of the first riders each day:"
   ]
  },
  {
   "cell_type": "code",
   "execution_count": 8,
   "metadata": {
    "scrolled": true
   },
   "outputs": [
    {
     "name": "stdout",
     "output_type": "stream",
     "text": [
      "['1978', '1992', '1982', '1969', '1971', '1989', '1963']\n"
     ]
    }
   ],
   "source": [
    "def first_ride(reader):\n",
    "    day = {}\n",
    "    for line in reader:\n",
    "        if  day != line['starttime'].split(' ')[0]:\n",
    "            yield line\n",
    "            day = line['starttime'].split(' ')[0]          \n",
    "                        \n",
    "get_first = []\n",
    "with open('citibike.csv', 'r') as data:\n",
    "    reader = csv.DictReader(data)\n",
    "    for first_rider in first_ride(reader):\n",
    "        get_first.append(list(map(first_rider.get, reader.fieldnames)))\n",
    "        \n",
    "get_birth_year = {}\n",
    "get_birth_year = list(map(lambda x:x[15],get_first))\n",
    "print(get_birth_year)"
   ]
  }
 ],
 "metadata": {
  "kernelspec": {
   "display_name": "Python 3",
   "language": "python",
   "name": "python3"
  },
  "language_info": {
   "codemirror_mode": {
    "name": "ipython",
    "version": 3
   },
   "file_extension": ".py",
   "mimetype": "text/x-python",
   "name": "python",
   "nbconvert_exporter": "python",
   "pygments_lexer": "ipython3",
   "version": "3.6.8"
  }
 },
 "nbformat": 4,
 "nbformat_minor": 2
}
