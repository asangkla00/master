{
 "cells": [
  {
   "cell_type": "markdown",
   "metadata": {},
   "source": [
    "### Homework 1\n",
    "#### Anutida Sangkla  ID: 002602236\n",
    "#### Scalable Data Analytics (MSA 8050) Spring 2021"
   ]
  },
  {
   "cell_type": "code",
   "execution_count": 1,
   "metadata": {},
   "outputs": [],
   "source": [
    "import pandas as pd\n",
    "from functools import reduce\n",
    "import math"
   ]
  },
  {
   "cell_type": "markdown",
   "metadata": {},
   "source": [
    "#### Question 2 : \n",
    "#### Part (a) The number of gender 1 made, and that gender 2 made:"
   ]
  },
  {
   "cell_type": "code",
   "execution_count": 2,
   "metadata": {},
   "outputs": [],
   "source": [
    "df = pd.read_csv(\"citibike.csv\")\n",
    "rows = df.values.tolist()"
   ]
  },
  {
   "cell_type": "code",
   "execution_count": 3,
   "metadata": {},
   "outputs": [
    {
     "name": "stdout",
     "output_type": "stream",
     "text": [
      "[37805, 7848]\n"
     ]
    }
   ],
   "source": [
    "gender = map(lambda x:x[16],rows)\n",
    "pairs = list(map(lambda x: (int(x==1),int(x==2)),gender))\n",
    "count = list(reduce(lambda x,y: (x[0] + y[0], x[1] + y[1]), pairs))\n",
    "print(count)"
   ]
  },
  {
   "cell_type": "markdown",
   "metadata": {},
   "source": [
    "#### Part (b) Total number of trips per birth year:"
   ]
  },
  {
   "cell_type": "code",
   "execution_count": 4,
   "metadata": {},
   "outputs": [
    {
     "name": "stdout",
     "output_type": "stream",
     "text": [
      "{1900.0: 22, 1901.0: 1, 1910.0: 2, 1922.0: 4, 1926.0: 1, 1929.0: 1, 1934.0: 8, 1935.0: 9, 1938.0: 24, 1939.0: 4, 1940.0: 21, 1941.0: 39, 1942.0: 61, 1943.0: 18, 1944.0: 59, 1945.0: 28, 1946.0: 93, 1947.0: 74, 1948.0: 149, 1949.0: 134, 1950.0: 150, 1951.0: 229, 1952.0: 247, 1953.0: 346, 1954.0: 417, 1955.0: 413, 1956.0: 488, 1957.0: 449, 1958.0: 783, 1959.0: 687, 1960.0: 771, 1961.0: 618, 1962.0: 899, 1963.0: 970, 1964.0: 891, 1965.0: 947, 1966.0: 863, 1967.0: 999, 1968.0: 1010, 1969.0: 1133, 1970.0: 1347, 1971.0: 1162, 1972.0: 1081, 1973.0: 1022, 1974.0: 1158, 1975.0: 1071, 1976.0: 1168, 1977.0: 1122, 1978.0: 1377, 1979.0: 1279, 1980.0: 1509, 1981.0: 1499, 1982.0: 1455, 1983.0: 1793, 1984.0: 1714, 1985.0: 1673, 1986.0: 1568, 1987.0: 1730, 1988.0: 1358, 1989.0: 1322, 1990.0: 1361, 1991.0: 922, 1992.0: 493, 1993.0: 470, 1994.0: 392, 1995.0: 256, 1996.0: 124, 1997.0: 94, 1998.0: 59, 1999.0: 17}\n"
     ]
    }
   ],
   "source": [
    "get_birth_year = list(map(lambda x:x[15],rows))\n",
    "birth_year = [x for x in get_birth_year if str(x) != 'nan']\n",
    "trips = reduce(lambda x, y: x.update([(y, x.get(y,0)+1)]) or x, birth_year,{})\n",
    "trips_per_birth_year = {k: v for k, v in sorted(trips.items())}\n",
    "print(trips_per_birth_year)"
   ]
  }
 ],
 "metadata": {
  "kernelspec": {
   "display_name": "Python 3",
   "language": "python",
   "name": "python3"
  },
  "language_info": {
   "codemirror_mode": {
    "name": "ipython",
    "version": 3
   },
   "file_extension": ".py",
   "mimetype": "text/x-python",
   "name": "python",
   "nbconvert_exporter": "python",
   "pygments_lexer": "ipython3",
   "version": "3.6.8"
  }
 },
 "nbformat": 4,
 "nbformat_minor": 2
}
